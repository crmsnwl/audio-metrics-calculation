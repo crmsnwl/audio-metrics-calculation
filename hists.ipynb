{
 "cells": [
  {
   "cell_type": "code",
   "execution_count": 2,
   "metadata": {},
   "outputs": [],
   "source": [
    "import numpy as np\n",
    "import librosa\n",
    "from scipy.stats import entropy\n",
    "import matplotlib.pyplot as plt"
   ]
  },
  {
   "cell_type": "code",
   "execution_count": 3,
   "metadata": {},
   "outputs": [],
   "source": [
    "def calculate_entropy(elements):\n",
    "    elements = np.asarray(elements)\n",
    "    if elements.size == 0:\n",
    "        return 0, 0\n",
    "    value, counts = np.unique(elements, return_counts=True)\n",
    "    probabilities = counts / counts.sum()\n",
    "    ent = entropy(probabilities, base=2)\n",
    "    max_entropy = np.log2(len(value)) if len(value) > 0 else 0\n",
    "    relative_entropy = (ent / max_entropy * 100) if max_entropy > 0 else 0\n",
    "    return ent, relative_entropy\n",
    "\n",
    "def extract_features(audio_file, feature_type):\n",
    "    y, sr = librosa.load(audio_file)\n",
    "    if feature_type == 'pitch':\n",
    "        pitches, _ = librosa.piptrack(y=y, sr=sr)\n",
    "        pitches = pitches[pitches > 0]\n",
    "        return np.round(librosa.hz_to_midi(pitches))\n",
    "    elif feature_type == 'rhythm':\n",
    "        onset_frames = librosa.onset.onset_detect(y=y, sr=sr)\n",
    "        onset_times = librosa.frames_to_time(onset_frames, sr=sr)\n",
    "        return np.diff(onset_times) \n",
    "    elif feature_type == 'dynamics':\n",
    "        S, _ = librosa.magphase(librosa.stft(y))\n",
    "        rms = librosa.feature.rms(S=S)[0]\n",
    "        rms = rms[rms > np.mean(rms) * 0.1]  \n",
    "        rms = np.round(rms, 3) \n",
    "        return rms  \n",
    "    elif feature_type == 'timbre':\n",
    "        spectral_centroids = librosa.feature.spectral_centroid(y=y, sr=sr)[0]\n",
    "        spectral_centroids = spectral_centroids[spectral_centroids > np.mean(spectral_centroids) * 0.1] \n",
    "        spectral_centroids = np.round(spectral_centroids, -1)  \n",
    "        return spectral_centroids \n",
    "\n",
    "def plot_histograms(features, feature_type, file_index, color):\n",
    "    entropy_val, relative_entropy_val = calculate_entropy(features)\n",
    "    fig, ax = plt.subplots(figsize=(10, 5))\n",
    "    if feature_type == 'pitch':\n",
    "        bins = 17 \n",
    "    elif feature_type == 'timbre':\n",
    "        bins = 25 \n",
    "    else:\n",
    "        bins = 30  \n",
    "    ax.hist(features, bins=bins, color=color, alpha=0.75, edgecolor='black',\n",
    "             label=f'{feature_type.capitalize()} - File {file_index + 1}: {entropy_val:.3f} bits, Relative: {relative_entropy_val:.2f}%')\n",
    "    ax.set_title(f'{feature_type.capitalize()} Distribution for File {file_index + 1}')\n",
    "\n",
    "    ax.set_xlim(left=0)\n",
    "\n",
    "    if feature_type == 'pitch':\n",
    "        ax.set_xlabel('Pitch value')\n",
    "    elif feature_type == 'rhythm':\n",
    "        ax.set_xlabel('Inter-onset Interval (seconds)')\n",
    "    elif feature_type == 'dynamics':\n",
    "        ax.set_xlabel('Root Mean Square Energy (amplitude)')\n",
    "    elif feature_type == 'timbre':\n",
    "        ax.set_xlabel('Spectral Centroid (Hz)')\n",
    "\n",
    "    ax.set_ylabel('Frequency')\n",
    "    ax.legend()\n",
    "\n",
    "    fig.patch.set_linewidth(5)  \n",
    "    fig.patch.set_edgecolor('black')  \n",
    "\n",
    "    plt.show()\n",
    "\n",
    "def main(audio_files, feature_type):\n",
    "    colors = ['red', 'purple', 'orange', 'brown']\n",
    "    for i, audio_file in enumerate(audio_files):\n",
    "        features = extract_features(audio_file, feature_type)\n",
    "        plot_histograms(features, feature_type, i, colors[i])\n",
    "\n",
    "\n"
   ]
  },
  {
   "cell_type": "code",
   "execution_count": null,
   "metadata": {},
   "outputs": [],
   "source": [
    "audio_paths = ['audio1.wav']\n",
    "metrics = ['pitch', 'rhythm', 'dynamics', 'timbre']\n",
    "for metric in metrics:\n",
    "    main(audio_paths, metric)"
   ]
  }
 ],
 "metadata": {
  "kernelspec": {
   "display_name": "Python 3",
   "language": "python",
   "name": "python3"
  },
  "language_info": {
   "codemirror_mode": {
    "name": "ipython",
    "version": 3
   },
   "file_extension": ".py",
   "mimetype": "text/x-python",
   "name": "python",
   "nbconvert_exporter": "python",
   "pygments_lexer": "ipython3",
   "version": "3.8.0"
  }
 },
 "nbformat": 4,
 "nbformat_minor": 2
}
